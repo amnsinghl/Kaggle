{
 "cells": [
  {
   "cell_type": "code",
   "execution_count": 28,
   "metadata": {
    "collapsed": false
   },
   "outputs": [],
   "source": [
    "def readDataFromFile(filename):\n",
    "    from numpy import genfromtxt\n",
    "    print \"reading data please wait...\"\n",
    "    my_data = genfromtxt(filename, delimiter=',',skip_header=1)\n",
    "    print my_data.shape\n",
    "    return my_data"
   ]
  },
  {
   "cell_type": "code",
   "execution_count": 36,
   "metadata": {
    "collapsed": false
   },
   "outputs": [],
   "source": [
    "def readDataFromFile2(filename):\n",
    "    import csv\n",
    "    ret = []\n",
    "    with open(filename, 'rb') as csvfile:\n",
    "        spamreader = csv.reader(csvfile)\n",
    "        for row in spamreader:\n",
    "            ret.append(row)\n",
    "        return ret"
   ]
  },
  {
   "cell_type": "code",
   "execution_count": 361,
   "metadata": {
    "collapsed": true
   },
   "outputs": [],
   "source": [
    "def plotDataIn2D(x_data, y_data):\n",
    "    %pylab inline\n",
    "    proj = pca.fit_transform(x_data)\n",
    "    plt.scatter(proj[:, 0], proj[:, 1], c=y_data)\n",
    "#     plt.colorbar()"
   ]
  },
  {
   "cell_type": "code",
   "execution_count": 167,
   "metadata": {
    "collapsed": true
   },
   "outputs": [],
   "source": [
    "def writeFile(y_data):\n",
    "    f = open('myfile','w')\n",
    "    f.write(\"PassengerId,Survived\\n\")\n",
    "    i = 892;\n",
    "    for k in y_data:\n",
    "        f.write(str(i) + \",\" + str(int(k)) + \"\\n\")\n",
    "        i = i+1\n",
    "    f.close()"
   ]
  },
  {
   "cell_type": "code",
   "execution_count": 310,
   "metadata": {
    "collapsed": false
   },
   "outputs": [],
   "source": [
    "def checkIfNull(string):\n",
    "    if len(str(string)) == 0:\n",
    "        return True\n",
    "    else:\n",
    "        return False\n",
    "    \n",
    "def intToList(num, siz):\n",
    "    return [num]\n",
    "#     ret = [0] * siz\n",
    "#     i=0\n",
    "#     while num > 0:\n",
    "#         ret[i] = num%2\n",
    "#         num = num/2\n",
    "#         i = i+1\n",
    "#     return ret\n",
    "\n",
    "def tClass(row):\n",
    "    num = int(row[2])\n",
    "    return intToList(num,2)\n",
    "\n",
    "def tAge(row):\n",
    "#     15,30,45,60,75\n",
    "    val = row[5]\n",
    "    if checkIfNull(val):\n",
    "        val = 0\n",
    "    num = int(float(val)/15)\n",
    "    return intToList(num, 4)\n",
    "\n",
    "def tSex(row):\n",
    "    if row[4] == 'male':\n",
    "        return [0]\n",
    "    else:\n",
    "        return [1]\n",
    "def tSb(row):\n",
    "    num = int(row[6])\n",
    "    return intToList(num,4)\n",
    "\n",
    "def tSp(row):\n",
    "    num = int(row[7])\n",
    "    return intToList(num,4)\n",
    "\n",
    "def tCost(row):\n",
    "    val = row[9]\n",
    "    if checkIfNull(val):\n",
    "        val = 0\n",
    "    num = int(round(float(val)))\n",
    "    ret = 0\n",
    "    while num > 0:\n",
    "        num = num/2\n",
    "        ret = ret + 1\n",
    "    return intToList(ret, 8)\n",
    "\n",
    "def tEm(row):\n",
    "    val = 0\n",
    "    if row[11] == 'S':\n",
    "        val = 1\n",
    "    elif row[11] == 'Q':\n",
    "        val = 2\n",
    "    elif row[11] == 'C':\n",
    "        val = 3\n",
    "    return intToList(val, 2)\n",
    "\n",
    "def transform(row):\n",
    "#     print row\n",
    "    y = row[1]\n",
    "    x = []\n",
    "    for t in tClass(row):\n",
    "        x.append(t)\n",
    "    for t in tSex(row):\n",
    "        x.append(t)\n",
    "    for t in tAge(row):\n",
    "        x.append(t)\n",
    "    for t in tSb(row):\n",
    "        x.append(t)\n",
    "    for t in tSp(row):\n",
    "        x.append(t)\n",
    "    for t in tCost(row):\n",
    "        x.append(t)\n",
    "    for t in tEm(row):\n",
    "        x.append(t)\n",
    "#     print x\n",
    "    return [x, y]"
   ]
  },
  {
   "cell_type": "code",
   "execution_count": 115,
   "metadata": {
    "collapsed": false
   },
   "outputs": [],
   "source": [
    "train_data = readDataFromFile2('train.csv')"
   ]
  },
  {
   "cell_type": "code",
   "execution_count": 311,
   "metadata": {
    "collapsed": false
   },
   "outputs": [
    {
     "name": "stdout",
     "output_type": "stream",
     "text": [
      "(891, 7) (891,)\n"
     ]
    }
   ],
   "source": [
    "import numpy\n",
    "flag = True\n",
    "X = []\n",
    "Y = []\n",
    "for row in train_data:\n",
    "    if flag:\n",
    "        flag = False\n",
    "        continue\n",
    "    x, y = transform(row)\n",
    "    X.append(numpy.array(x))\n",
    "    Y.append(y)\n",
    "X = numpy.array(X)\n",
    "Y = numpy.array(Y)\n",
    "print X.shape, Y.shape"
   ]
  },
  {
   "cell_type": "code",
   "execution_count": 162,
   "metadata": {
    "collapsed": true
   },
   "outputs": [],
   "source": [
    "test_data = readDataFromFile2('test.csv')"
   ]
  },
  {
   "cell_type": "code",
   "execution_count": 312,
   "metadata": {
    "collapsed": false
   },
   "outputs": [
    {
     "name": "stdout",
     "output_type": "stream",
     "text": [
      "(418, 7) (418,)\n"
     ]
    }
   ],
   "source": [
    "import numpy\n",
    "flag = True\n",
    "Xt = []\n",
    "Yt = []\n",
    "for row in test_data:\n",
    "    if flag:\n",
    "        flag = False\n",
    "        continue\n",
    "    tRow = [0]\n",
    "    for tr in row:\n",
    "        tRow.append(tr)\n",
    "    x, y = transform(tRow)\n",
    "    Xt.append(numpy.array(x))\n",
    "    Yt.append(y)\n",
    "Xt = numpy.array(Xt)\n",
    "Yt = numpy.array(Yt)\n",
    "print Xt.shape, Yt.shape"
   ]
  },
  {
   "cell_type": "code",
   "execution_count": 243,
   "metadata": {
    "collapsed": true
   },
   "outputs": [],
   "source": [
    "def plotDataIn2D(x_data, y_data):\n",
    "    %pylab inline\n",
    "#     proj = pca.fit_transform(x_data)\n",
    "    plt.scatter(x_data[:, 0], x_data[:, 1], c=y_data)\n",
    "    plt.colorbar()"
   ]
  },
  {
   "cell_type": "code",
   "execution_count": 365,
   "metadata": {
    "collapsed": false
   },
   "outputs": [
    {
     "name": "stdout",
     "output_type": "stream",
     "text": [
      "[t-SNE] Computing pairwise distances...\n",
      "[t-SNE] Computed conditional probabilities for sample 891 / 891\n",
      "[t-SNE] Mean sigma: 0.000000\n",
      "[t-SNE] Error after 67 iterations with early exaggeration: 26.169440\n",
      "[t-SNE] Error after 285 iterations: 4.944699\n",
      "Populating the interactive namespace from numpy and matplotlib\n",
      "[t-SNE] Computing pairwise distances...\n",
      "[t-SNE] Computed conditional probabilities for sample 891 / 891\n",
      "[t-SNE] Mean sigma: 4.603078\n",
      "[t-SNE] Error after 100 iterations with early exaggeration: 25.646802\n",
      "[t-SNE] Error after 318 iterations: 4.719938\n"
     ]
    },
    {
     "data": {
      "image/png": "[encoded data removed]",
      "text/plain": [
       "<matplotlib.figure.Figure at 0x7f3eeacb48d0>"
      ]
     },
     "metadata": {},
     "output_type": "display_data"
    }
   ],
   "source": [
    "# from sklearn.decomposition import PCA\n",
    "# pca = PCA(n_components=2)\n",
    "from sklearn.manifold import TSNE\n",
    "pca = TSNE(n_components=4, verbose=1)\n",
    "da = pca.fit_transform(X)\n",
    "plotDataIn2D(da, Y)"
   ]
  },
  {
   "cell_type": "code",
   "execution_count": 128,
   "metadata": {
    "collapsed": true
   },
   "outputs": [],
   "source": [
    "# Instantiate and train the classifier\n",
    "from sklearn.neighbors import KNeighborsClassifier\n",
    "classifier = KNeighborsClassifier(n_neighbors=1)"
   ]
  },
  {
   "cell_type": "code",
   "execution_count": 186,
   "metadata": {
    "collapsed": true
   },
   "outputs": [],
   "source": [
    "from sklearn.naive_bayes import GaussianNB\n",
    "from sklearn.cross_validation import train_test_split\n",
    "classifier = GaussianNB()"
   ]
  },
  {
   "cell_type": "code",
   "execution_count": 318,
   "metadata": {
    "collapsed": false
   },
   "outputs": [],
   "source": [
    "# DecisionTreeClassifier\n",
    "from sklearn.tree import DecisionTreeClassifier\n",
    "classifier = DecisionTreeClassifier(random_state=0)"
   ]
  },
  {
   "cell_type": "code",
   "execution_count": 263,
   "metadata": {
    "collapsed": true
   },
   "outputs": [],
   "source": [
    "from sklearn.decomposition import PCA\n",
    "pca = PCA(n_components=10)\n",
    "xs = pca.fit_transform(X)"
   ]
  },
  {
   "cell_type": "code",
   "execution_count": 321,
   "metadata": {
    "collapsed": true
   },
   "outputs": [],
   "source": [
    "from sklearn.ensemble import RandomForestClassifier\n",
    "classifier = RandomForestClassifier(n_estimators=4, verbose = 1)"
   ]
  },
  {
   "cell_type": "code",
   "execution_count": 347,
   "metadata": {
    "collapsed": true
   },
   "outputs": [],
   "source": [
    "from sklearn.ensemble import AdaBoostClassifier\n",
    "classifier = AdaBoostClassifier()"
   ]
  },
  {
   "cell_type": "code",
   "execution_count": 350,
   "metadata": {
    "collapsed": true
   },
   "outputs": [],
   "source": [
    "efrom sklearn.svm import SVC\n",
    "classifier = SVC(verbose = 1) "
   ]
  },
  {
   "cell_type": "code",
   "execution_count": 366,
   "metadata": {
    "collapsed": false
   },
   "outputs": [
    {
     "ename": "AttributeError",
     "evalue": "'TSNE' object has no attribute 'transform'",
     "output_type": "error",
     "traceback": [
      "\u001b[1;31m---------------------------------------------------------------------------\u001b[0m",
      "\u001b[1;31mAttributeError\u001b[0m                            Traceback (most recent call last)",
      "\u001b[1;32m<ipython-input-366-4bd0e6efdc1d>\u001b[0m in \u001b[0;36m<module>\u001b[1;34m()\u001b[0m\n\u001b[0;32m      1\u001b[0m \u001b[1;31m# split the data into training and validation sets\u001b[0m\u001b[1;33m\u001b[0m\u001b[1;33m\u001b[0m\u001b[0m\n\u001b[0;32m      2\u001b[0m \u001b[1;32mfrom\u001b[0m \u001b[0msklearn\u001b[0m\u001b[1;33m.\u001b[0m\u001b[0mcross_validation\u001b[0m \u001b[1;32mimport\u001b[0m \u001b[0mtrain_test_split\u001b[0m\u001b[1;33m\u001b[0m\u001b[0m\n\u001b[1;32m----> 3\u001b[1;33m \u001b[0mxs\u001b[0m \u001b[1;33m=\u001b[0m \u001b[0mpca\u001b[0m\u001b[1;33m.\u001b[0m\u001b[0mtransform\u001b[0m\u001b[1;33m(\u001b[0m\u001b[0mX\u001b[0m\u001b[1;33m)\u001b[0m\u001b[1;33m\u001b[0m\u001b[0m\n\u001b[0m\u001b[0;32m      4\u001b[0m \u001b[0mX_train\u001b[0m\u001b[1;33m,\u001b[0m \u001b[0mX_test\u001b[0m\u001b[1;33m,\u001b[0m \u001b[0my_train\u001b[0m\u001b[1;33m,\u001b[0m \u001b[0my_test\u001b[0m \u001b[1;33m=\u001b[0m \u001b[0mtrain_test_split\u001b[0m\u001b[1;33m(\u001b[0m\u001b[0mxs\u001b[0m\u001b[1;33m,\u001b[0m\u001b[0mY\u001b[0m\u001b[1;33m)\u001b[0m\u001b[1;33m\u001b[0m\u001b[0m\n\u001b[0;32m      5\u001b[0m \u001b[1;31m# X_train = X\u001b[0m\u001b[1;33m\u001b[0m\u001b[1;33m\u001b[0m\u001b[0m\n",
      "\u001b[1;31mAttributeError\u001b[0m: 'TSNE' object has no attribute 'transform'"
     ]
    }
   ],
   "source": [
    "# split the data into training and validation sets\n",
    "from sklearn.cross_validation import train_test_split\n",
    "xs = pca.transform(X)\n",
    "X_train, X_test, y_train, y_test = train_test_split(xs,Y)\n",
    "# X_train = X\n",
    "# y_train = Y\n",
    "# train the model\n",
    "classifier.fit(X_train, y_train)\n",
    "\n",
    "# use the model to predict the labels of the test data\n",
    "predicted = classifier.predict(X_test)\n",
    "expected = y_test\n",
    "matches = (predicted == expected)\n",
    "print matches.sum()\n",
    "print len(matches)"
   ]
  },
  {
   "cell_type": "code",
   "execution_count": 354,
   "metadata": {
    "collapsed": false
   },
   "outputs": [
    {
     "name": "stdout",
     "output_type": "stream",
     "text": [
      "195\n",
      "223\n"
     ]
    }
   ],
   "source": [
    "matches = (predicted == expected)\n",
    "print matches.sum()\n",
    "print len(matches)"
   ]
  },
  {
   "cell_type": "markdown",
   "metadata": {},
   "source": [
    "old 185\n",
    "223"
   ]
  },
  {
   "cell_type": "code",
   "execution_count": 345,
   "metadata": {
    "collapsed": false
   },
   "outputs": [
    {
     "name": "stdout",
     "output_type": "stream",
     "text": [
      "             precision    recall  f1-score   support\n",
      "\n",
      "          0       0.89      0.83      0.86       149\n",
      "          1       0.69      0.80      0.74        74\n",
      "\n",
      "avg / total       0.83      0.82      0.82       223\n",
      "\n",
      "[[123  26]\n",
      " [ 15  59]]\n"
     ]
    }
   ],
   "source": [
    "from sklearn import metrics\n",
    "print metrics.classification_report(expected, predicted)\n",
    "print metrics.confusion_matrix(expected, predicted)"
   ]
  },
  {
   "cell_type": "code",
   "execution_count": 349,
   "metadata": {
    "collapsed": false
   },
   "outputs": [
    {
     "name": "stdout",
     "output_type": "stream",
     "text": [
      "['0' '0' '0' '0' '1' '0' '1' '0' '1' '0' '0' '0' '1' '0' '1' '1' '0' '0'\n",
      " '1' '1' '0' '0' '1' '1' '1' '0' '1' '0' '0' '0' '0' '0' '1' '1' '1' '0'\n",
      " '1' '1' '0' '0' '0' '0' '0' '1' '1' '0' '0' '0' '1' '1' '0' '0' '1' '1'\n",
      " '0' '0' '0' '0' '0' '1' '0' '0' '0' '1' '1' '1' '1' '0' '1' '0' '1' '0'\n",
      " '1' '1' '1' '0' '0' '1' '0' '1' '0' '0' '0' '0' '0' '0' '1' '1' '1' '0'\n",
      " '1' '0' '1' '0' '1' '0' '1' '0' '1' '0' '1' '0' '0' '0' '1' '0' '0' '0'\n",
      " '0' '0' '0' '1' '1' '1' '1' '0' '0' '1' '1' '1' '1' '0' '1' '0' '0' '1'\n",
      " '0' '1' '0' '0' '0' '0' '0' '0' '0' '0' '0' '0' '1' '0' '0' '1' '1' '0'\n",
      " '0' '0' '1' '0' '0' '0' '1' '0' '0' '1' '0' '0' '1' '1' '0' '1' '1' '0'\n",
      " '1' '0' '0' '1' '0' '0' '1' '1' '0' '0' '0' '0' '0' '1' '1' '0' '1' '1'\n",
      " '0' '1' '1' '0' '1' '0' '1' '0' '0' '0' '0' '0' '0' '0' '0' '0' '0' '1'\n",
      " '0' '1' '1' '0' '0' '1' '0' '1' '1' '0' '1' '0' '0' '0' '0' '1' '0' '0'\n",
      " '1' '0' '1' '0' '1' '0' '1' '0' '1' '1' '0' '1' '0' '0' '0' '1' '0' '0'\n",
      " '1' '0' '0' '0' '1' '1' '1' '1' '0' '0' '0' '0' '1' '0' '1' '1' '1' '0'\n",
      " '0' '0' '0' '0' '0' '0' '1' '0' '0' '0' '1' '1' '0' '0' '0' '0' '1' '0'\n",
      " '0' '0' '1' '1' '0' '1' '0' '0' '0' '0' '1' '0' '1' '1' '1' '0' '0' '0'\n",
      " '0' '0' '1' '1' '0' '0' '0' '0' '1' '0' '0' '0' '0' '0' '0' '0' '1' '1'\n",
      " '0' '0' '0' '0' '0' '0' '0' '1' '1' '1' '0' '0' '0' '0' '0' '0' '0' '0'\n",
      " '1' '0' '1' '0' '0' '0' '1' '1' '0' '1' '0' '0' '0' '0' '0' '0' '0' '0'\n",
      " '0' '1' '0' '1' '0' '1' '0' '1' '1' '0' '0' '0' '1' '0' '1' '0' '0' '1'\n",
      " '0' '1' '1' '0' '1' '0' '0' '1' '1' '0' '0' '1' '0' '0' '1' '1' '1' '0'\n",
      " '0' '0' '0' '0' '1' '1' '0' '1' '0' '0' '0' '0' '1' '1' '0' '0' '0' '1'\n",
      " '0' '1' '0' '0' '1' '0' '1' '0' '0' '0' '0' '0' '1' '1' '1' '1' '1' '0'\n",
      " '1' '0' '0' '0']\n"
     ]
    }
   ],
   "source": [
    "# tem = pca.transform(Xt)\n",
    "tem = Xt\n",
    "resul = classifier.predict(tem)\n",
    "print resul\n",
    "writeFile(resul)"
   ]
  }
 ],
 "metadata": {
  "kernelspec": {
   "display_name": "Python 2",
   "language": "python",
   "name": "python2"
  },
  "language_info": {
   "codemirror_mode": {
    "name": "ipython",
    "version": 2
   },
   "file_extension": ".py",
   "mimetype": "text/x-python",
   "name": "python",
   "nbconvert_exporter": "python",
   "pygments_lexer": "ipython2",
   "version": "2.7.6"
  }
 },
 "nbformat": 4,
 "nbformat_minor": 0
}
