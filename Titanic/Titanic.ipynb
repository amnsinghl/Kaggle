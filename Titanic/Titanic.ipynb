{
 "cells": [
  {
   "cell_type": "code",
   "execution_count": 4,
   "metadata": {
    "collapsed": false
   },
   "outputs": [],
   "source": [
    "def readDataFromFile(filename):\n",
    "    from numpy import genfromtxt\n",
    "    print \"reading data please wait...\"\n",
    "    my_data = genfromtxt(filename, delimiter=',',skip_header=1)\n",
    "    print my_data.shape\n",
    "    return my_data"
   ]
  },
  {
   "cell_type": "code",
   "execution_count": 5,
   "metadata": {
    "collapsed": false
   },
   "outputs": [],
   "source": [
    "def readDataFromFile2(filename):\n",
    "    import csv\n",
    "    ret = []\n",
    "    with open(filename, 'rb') as csvfile:\n",
    "        spamreader = csv.reader(csvfile)\n",
    "        for row in spamreader:\n",
    "            ret.append(row)\n",
    "        return ret"
   ]
  },
  {
   "cell_type": "code",
   "execution_count": 6,
   "metadata": {
    "collapsed": true
   },
   "outputs": [],
   "source": [
    "def plotDataIn2D(x_data, y_data):\n",
    "    %pylab inline\n",
    "    proj = pca.fit_transform(x_data)\n",
    "    plt.scatter(proj[:, 0], proj[:, 1], c=y_data)\n",
    "#     plt.colorbar()"
   ]
  },
  {
   "cell_type": "code",
   "execution_count": 7,
   "metadata": {
    "collapsed": true
   },
   "outputs": [],
   "source": [
    "def writeFile(y_data):\n",
    "    f = open('myfile','w')\n",
    "    f.write(\"PassengerId,Survived\\n\")\n",
    "    i = 892;\n",
    "    for k in y_data:\n",
    "        f.write(str(i) + \",\" + str(int(k)) + \"\\n\")\n",
    "        i = i+1\n",
    "    f.close()"
   ]
  },
  {
   "cell_type": "code",
   "execution_count": 8,
   "metadata": {
    "collapsed": false
   },
   "outputs": [],
   "source": [
    "def checkIfNull(string):\n",
    "    if len(str(string)) == 0:\n",
    "        return True\n",
    "    else:\n",
    "        return False\n",
    "    \n",
    "def intToList(num, siz):\n",
    "    return [num]\n",
    "#     ret = [0] * siz\n",
    "#     i=0\n",
    "#     while num > 0:\n",
    "#         ret[i] = num%2\n",
    "#         num = num/2\n",
    "#         i = i+1\n",
    "#     return ret\n",
    "\n",
    "def tClass(row):\n",
    "    num = int(row[2])\n",
    "    return intToList(num,2)\n",
    "\n",
    "def tAge(row):\n",
    "#     15,30,45,60,75\n",
    "    val = row[5]\n",
    "    if checkIfNull(val):\n",
    "        val = 0\n",
    "    num = int(float(val)/15)\n",
    "    return intToList(num, 4)\n",
    "\n",
    "def tSex(row):\n",
    "    if row[4] == 'male':\n",
    "        return [0]\n",
    "    else:\n",
    "        return [1]\n",
    "def tSb(row):\n",
    "    num = int(row[6])\n",
    "    return intToList(num,4)\n",
    "\n",
    "def tSp(row):\n",
    "    num = int(row[7])\n",
    "    return intToList(num,4)\n",
    "\n",
    "def tCost(row):\n",
    "    val = row[9]\n",
    "    if checkIfNull(val):\n",
    "        val = 0\n",
    "    num = int(round(float(val)))\n",
    "    ret = 0\n",
    "    while num > 0:\n",
    "        num = num/2\n",
    "        ret = ret + 1\n",
    "    return intToList(ret, 8)\n",
    "\n",
    "def tEm(row):\n",
    "    val = 0\n",
    "    if row[11] == 'S':\n",
    "        val = 1\n",
    "    elif row[11] == 'Q':\n",
    "        val = 2\n",
    "    elif row[11] == 'C':\n",
    "        val = 3\n",
    "    return intToList(val, 2)\n",
    "\n",
    "def transform(row):\n",
    "#     print row\n",
    "    y = row[1]\n",
    "    x = []\n",
    "    for t in tClass(row):\n",
    "        x.append(t)\n",
    "    for t in tSex(row):\n",
    "        x.append(t)\n",
    "    for t in tAge(row):\n",
    "        x.append(t)\n",
    "    for t in tSb(row):\n",
    "        x.append(t)\n",
    "    for t in tSp(row):\n",
    "        x.append(t)\n",
    "    for t in tCost(row):\n",
    "        x.append(t)\n",
    "    for t in tEm(row):\n",
    "        x.append(t)\n",
    "#     print x\n",
    "    return [x, y]"
   ]
  },
  {
   "cell_type": "code",
   "execution_count": 9,
   "metadata": {
    "collapsed": false
   },
   "outputs": [],
   "source": [
    "train_data = readDataFromFile2('train.csv')"
   ]
  },
  {
   "cell_type": "code",
   "execution_count": 10,
   "metadata": {
    "collapsed": false
   },
   "outputs": [
    {
     "name": "stdout",
     "output_type": "stream",
     "text": [
      "(891, 7) (891,)\n"
     ]
    }
   ],
   "source": [
    "import numpy\n",
    "flag = True\n",
    "X = []\n",
    "Y = []\n",
    "for row in train_data:\n",
    "    if flag:\n",
    "        flag = False\n",
    "        continue\n",
    "    x, y = transform(row)\n",
    "    X.append(numpy.array(x))\n",
    "    Y.append(y)\n",
    "X = numpy.array(X)\n",
    "Y = numpy.array(Y)\n",
    "print X.shape, Y.shape"
   ]
  },
  {
   "cell_type": "code",
   "execution_count": 11,
   "metadata": {
    "collapsed": false
   },
   "outputs": [],
   "source": [
    "test_data = readDataFromFile2('test.csv')"
   ]
  },
  {
   "cell_type": "code",
   "execution_count": 12,
   "metadata": {
    "collapsed": false
   },
   "outputs": [
    {
     "name": "stdout",
     "output_type": "stream",
     "text": [
      "(418, 7) (418,)\n"
     ]
    }
   ],
   "source": [
    "import numpy\n",
    "flag = True\n",
    "Xt = []\n",
    "Yt = []\n",
    "for row in test_data:\n",
    "    if flag:\n",
    "        flag = False\n",
    "        continue\n",
    "    tRow = [0]\n",
    "    for tr in row:\n",
    "        tRow.append(tr)\n",
    "    x, y = transform(tRow)\n",
    "    Xt.append(numpy.array(x))\n",
    "    Yt.append(y)\n",
    "Xt = numpy.array(Xt)\n",
    "Yt = numpy.array(Yt)\n",
    "print Xt.shape, Yt.shape"
   ]
  },
  {
   "cell_type": "code",
   "execution_count": 10,
   "metadata": {
    "collapsed": true
   },
   "outputs": [],
   "source": [
    "def plotDataIn2D(x_data, y_data):\n",
    "    %pylab inline\n",
    "#     proj = pca.fit_transform(x_data)\n",
    "    plt.scatter(x_data[:, 0], x_data[:, 1], c=y_data)\n",
    "    plt.colorbar()"
   ]
  },
  {
   "cell_type": "code",
   "execution_count": 11,
   "metadata": {
    "collapsed": false
   },
   "outputs": [
    {
     "name": "stdout",
     "output_type": "stream",
     "text": [
      "[t-SNE] Computing pairwise distances...\n",
      "[t-SNE] Computed conditional probabilities for sample 891 / 891\n",
      "[t-SNE] Mean sigma: 0.000000\n",
      "[t-SNE] Error after 65 iterations with early exaggeration: 25.919155\n",
      "[t-SNE] Error after 282 iterations: 4.885373\n",
      "Populating the interactive namespace from numpy and matplotlib\n"
     ]
    },
    {
     "name": "stderr",
     "output_type": "stream",
     "text": [
      "WARNING: pylab import has clobbered these variables: ['flag']\n",
      "`%matplotlib` prevents importing * from pylab and numpy\n"
     ]
    },
    {
     "ename": "TypeError",
     "evalue": "You must first set_array for mappable",
     "output_type": "error",
     "traceback": [
      "\u001b[1;31m---------------------------------------------------------------------------\u001b[0m",
      "\u001b[1;31mTypeError\u001b[0m                                 Traceback (most recent call last)",
      "\u001b[1;32m<ipython-input-11-7b3d071d6cea>\u001b[0m in \u001b[0;36m<module>\u001b[1;34m()\u001b[0m\n\u001b[0;32m      4\u001b[0m \u001b[0mpca\u001b[0m \u001b[1;33m=\u001b[0m \u001b[0mTSNE\u001b[0m\u001b[1;33m(\u001b[0m\u001b[0mn_components\u001b[0m\u001b[1;33m=\u001b[0m\u001b[1;36m4\u001b[0m\u001b[1;33m,\u001b[0m \u001b[0mverbose\u001b[0m\u001b[1;33m=\u001b[0m\u001b[1;36m1\u001b[0m\u001b[1;33m)\u001b[0m\u001b[1;33m\u001b[0m\u001b[0m\n\u001b[0;32m      5\u001b[0m \u001b[0mda\u001b[0m \u001b[1;33m=\u001b[0m \u001b[0mpca\u001b[0m\u001b[1;33m.\u001b[0m\u001b[0mfit_transform\u001b[0m\u001b[1;33m(\u001b[0m\u001b[0mX\u001b[0m\u001b[1;33m)\u001b[0m\u001b[1;33m\u001b[0m\u001b[0m\n\u001b[1;32m----> 6\u001b[1;33m \u001b[0mplotDataIn2D\u001b[0m\u001b[1;33m(\u001b[0m\u001b[0mda\u001b[0m\u001b[1;33m,\u001b[0m \u001b[0mY\u001b[0m\u001b[1;33m)\u001b[0m\u001b[1;33m\u001b[0m\u001b[0m\n\u001b[0m",
      "\u001b[1;32m<ipython-input-10-e8fd80259139>\u001b[0m in \u001b[0;36mplotDataIn2D\u001b[1;34m(x_data, y_data)\u001b[0m\n\u001b[0;32m      3\u001b[0m \u001b[1;31m#     proj = pca.fit_transform(x_data)\u001b[0m\u001b[1;33m\u001b[0m\u001b[1;33m\u001b[0m\u001b[0m\n\u001b[0;32m      4\u001b[0m     \u001b[0mplt\u001b[0m\u001b[1;33m.\u001b[0m\u001b[0mscatter\u001b[0m\u001b[1;33m(\u001b[0m\u001b[0mx_data\u001b[0m\u001b[1;33m[\u001b[0m\u001b[1;33m:\u001b[0m\u001b[1;33m,\u001b[0m \u001b[1;36m0\u001b[0m\u001b[1;33m]\u001b[0m\u001b[1;33m,\u001b[0m \u001b[0mx_data\u001b[0m\u001b[1;33m[\u001b[0m\u001b[1;33m:\u001b[0m\u001b[1;33m,\u001b[0m \u001b[1;36m1\u001b[0m\u001b[1;33m]\u001b[0m\u001b[1;33m,\u001b[0m \u001b[0mc\u001b[0m\u001b[1;33m=\u001b[0m\u001b[0my_data\u001b[0m\u001b[1;33m)\u001b[0m\u001b[1;33m\u001b[0m\u001b[0m\n\u001b[1;32m----> 5\u001b[1;33m     \u001b[0mplt\u001b[0m\u001b[1;33m.\u001b[0m\u001b[0mcolorbar\u001b[0m\u001b[1;33m(\u001b[0m\u001b[1;33m)\u001b[0m\u001b[1;33m\u001b[0m\u001b[0m\n\u001b[0m",
      "\u001b[1;32m/usr/lib/pymodules/python2.7/matplotlib/pyplot.pyc\u001b[0m in \u001b[0;36mcolorbar\u001b[1;34m(mappable, cax, ax, **kw)\u001b[0m\n\u001b[0;32m   2119\u001b[0m         \u001b[0max\u001b[0m \u001b[1;33m=\u001b[0m \u001b[0mgca\u001b[0m\u001b[1;33m(\u001b[0m\u001b[1;33m)\u001b[0m\u001b[1;33m\u001b[0m\u001b[0m\n\u001b[0;32m   2120\u001b[0m \u001b[1;33m\u001b[0m\u001b[0m\n\u001b[1;32m-> 2121\u001b[1;33m     \u001b[0mret\u001b[0m \u001b[1;33m=\u001b[0m \u001b[0mgcf\u001b[0m\u001b[1;33m(\u001b[0m\u001b[1;33m)\u001b[0m\u001b[1;33m.\u001b[0m\u001b[0mcolorbar\u001b[0m\u001b[1;33m(\u001b[0m\u001b[0mmappable\u001b[0m\u001b[1;33m,\u001b[0m \u001b[0mcax\u001b[0m \u001b[1;33m=\u001b[0m \u001b[0mcax\u001b[0m\u001b[1;33m,\u001b[0m \u001b[0max\u001b[0m\u001b[1;33m=\u001b[0m\u001b[0max\u001b[0m\u001b[1;33m,\u001b[0m \u001b[1;33m**\u001b[0m\u001b[0mkw\u001b[0m\u001b[1;33m)\u001b[0m\u001b[1;33m\u001b[0m\u001b[0m\n\u001b[0m\u001b[0;32m   2122\u001b[0m     \u001b[0mdraw_if_interactive\u001b[0m\u001b[1;33m(\u001b[0m\u001b[1;33m)\u001b[0m\u001b[1;33m\u001b[0m\u001b[0m\n\u001b[0;32m   2123\u001b[0m     \u001b[1;32mreturn\u001b[0m \u001b[0mret\u001b[0m\u001b[1;33m\u001b[0m\u001b[0m\n",
      "\u001b[1;32m/usr/lib/pymodules/python2.7/matplotlib/figure.pyc\u001b[0m in \u001b[0;36mcolorbar\u001b[1;34m(self, mappable, cax, ax, use_gridspec, **kw)\u001b[0m\n\u001b[0;32m   1449\u001b[0m                 \u001b[0mcax\u001b[0m\u001b[1;33m,\u001b[0m \u001b[0mkw\u001b[0m \u001b[1;33m=\u001b[0m \u001b[0mcbar\u001b[0m\u001b[1;33m.\u001b[0m\u001b[0mmake_axes\u001b[0m\u001b[1;33m(\u001b[0m\u001b[0max\u001b[0m\u001b[1;33m,\u001b[0m \u001b[1;33m**\u001b[0m\u001b[0mkw\u001b[0m\u001b[1;33m)\u001b[0m\u001b[1;33m\u001b[0m\u001b[0m\n\u001b[0;32m   1450\u001b[0m         \u001b[0mcax\u001b[0m\u001b[1;33m.\u001b[0m\u001b[0mhold\u001b[0m\u001b[1;33m(\u001b[0m\u001b[0mTrue\u001b[0m\u001b[1;33m)\u001b[0m\u001b[1;33m\u001b[0m\u001b[0m\n\u001b[1;32m-> 1451\u001b[1;33m         \u001b[0mcb\u001b[0m \u001b[1;33m=\u001b[0m \u001b[0mcbar\u001b[0m\u001b[1;33m.\u001b[0m\u001b[0mcolorbar_factory\u001b[0m\u001b[1;33m(\u001b[0m\u001b[0mcax\u001b[0m\u001b[1;33m,\u001b[0m \u001b[0mmappable\u001b[0m\u001b[1;33m,\u001b[0m \u001b[1;33m**\u001b[0m\u001b[0mkw\u001b[0m\u001b[1;33m)\u001b[0m\u001b[1;33m\u001b[0m\u001b[0m\n\u001b[0m\u001b[0;32m   1452\u001b[0m \u001b[1;33m\u001b[0m\u001b[0m\n\u001b[0;32m   1453\u001b[0m         \u001b[0mself\u001b[0m\u001b[1;33m.\u001b[0m\u001b[0msca\u001b[0m\u001b[1;33m(\u001b[0m\u001b[0mcurrent_ax\u001b[0m\u001b[1;33m)\u001b[0m\u001b[1;33m\u001b[0m\u001b[0m\n",
      "\u001b[1;32m/usr/lib/pymodules/python2.7/matplotlib/colorbar.pyc\u001b[0m in \u001b[0;36mcolorbar_factory\u001b[1;34m(cax, mappable, **kwargs)\u001b[0m\n\u001b[0;32m   1272\u001b[0m         \u001b[0mcb\u001b[0m \u001b[1;33m=\u001b[0m \u001b[0mColorbarPatch\u001b[0m\u001b[1;33m(\u001b[0m\u001b[0mcax\u001b[0m\u001b[1;33m,\u001b[0m \u001b[0mmappable\u001b[0m\u001b[1;33m,\u001b[0m \u001b[1;33m**\u001b[0m\u001b[0mkwargs\u001b[0m\u001b[1;33m)\u001b[0m\u001b[1;33m\u001b[0m\u001b[0m\n\u001b[0;32m   1273\u001b[0m     \u001b[1;32melse\u001b[0m\u001b[1;33m:\u001b[0m\u001b[1;33m\u001b[0m\u001b[0m\n\u001b[1;32m-> 1274\u001b[1;33m         \u001b[0mcb\u001b[0m \u001b[1;33m=\u001b[0m \u001b[0mColorbar\u001b[0m\u001b[1;33m(\u001b[0m\u001b[0mcax\u001b[0m\u001b[1;33m,\u001b[0m \u001b[0mmappable\u001b[0m\u001b[1;33m,\u001b[0m \u001b[1;33m**\u001b[0m\u001b[0mkwargs\u001b[0m\u001b[1;33m)\u001b[0m\u001b[1;33m\u001b[0m\u001b[0m\n\u001b[0m\u001b[0;32m   1275\u001b[0m \u001b[1;33m\u001b[0m\u001b[0m\n\u001b[0;32m   1276\u001b[0m     \u001b[0mmappable\u001b[0m\u001b[1;33m.\u001b[0m\u001b[0mcallbacksSM\u001b[0m\u001b[1;33m.\u001b[0m\u001b[0mconnect\u001b[0m\u001b[1;33m(\u001b[0m\u001b[1;34m'changed'\u001b[0m\u001b[1;33m,\u001b[0m \u001b[0mcb\u001b[0m\u001b[1;33m.\u001b[0m\u001b[0mon_mappable_changed\u001b[0m\u001b[1;33m)\u001b[0m\u001b[1;33m\u001b[0m\u001b[0m\n",
      "\u001b[1;32m/usr/lib/pymodules/python2.7/matplotlib/colorbar.pyc\u001b[0m in \u001b[0;36m__init__\u001b[1;34m(self, ax, mappable, **kw)\u001b[0m\n\u001b[0;32m    850\u001b[0m         \u001b[1;31m# Ensure the given mappable's norm has appropriate vmin and vmax set\u001b[0m\u001b[1;33m\u001b[0m\u001b[1;33m\u001b[0m\u001b[0m\n\u001b[0;32m    851\u001b[0m         \u001b[1;31m# even if mappable.draw has not yet been called.\u001b[0m\u001b[1;33m\u001b[0m\u001b[1;33m\u001b[0m\u001b[0m\n\u001b[1;32m--> 852\u001b[1;33m         \u001b[0mmappable\u001b[0m\u001b[1;33m.\u001b[0m\u001b[0mautoscale_None\u001b[0m\u001b[1;33m(\u001b[0m\u001b[1;33m)\u001b[0m\u001b[1;33m\u001b[0m\u001b[0m\n\u001b[0m\u001b[0;32m    853\u001b[0m \u001b[1;33m\u001b[0m\u001b[0m\n\u001b[0;32m    854\u001b[0m         \u001b[0mself\u001b[0m\u001b[1;33m.\u001b[0m\u001b[0mmappable\u001b[0m \u001b[1;33m=\u001b[0m \u001b[0mmappable\u001b[0m\u001b[1;33m\u001b[0m\u001b[0m\n",
      "\u001b[1;32m/usr/lib/pymodules/python2.7/matplotlib/cm.pyc\u001b[0m in \u001b[0;36mautoscale_None\u001b[1;34m(self)\u001b[0m\n\u001b[0;32m    330\u001b[0m         \"\"\"\n\u001b[0;32m    331\u001b[0m         \u001b[1;32mif\u001b[0m \u001b[0mself\u001b[0m\u001b[1;33m.\u001b[0m\u001b[0m_A\u001b[0m \u001b[1;32mis\u001b[0m \u001b[0mNone\u001b[0m\u001b[1;33m:\u001b[0m\u001b[1;33m\u001b[0m\u001b[0m\n\u001b[1;32m--> 332\u001b[1;33m             \u001b[1;32mraise\u001b[0m \u001b[0mTypeError\u001b[0m\u001b[1;33m(\u001b[0m\u001b[1;34m'You must first set_array for mappable'\u001b[0m\u001b[1;33m)\u001b[0m\u001b[1;33m\u001b[0m\u001b[0m\n\u001b[0m\u001b[0;32m    333\u001b[0m         \u001b[0mself\u001b[0m\u001b[1;33m.\u001b[0m\u001b[0mnorm\u001b[0m\u001b[1;33m.\u001b[0m\u001b[0mautoscale_None\u001b[0m\u001b[1;33m(\u001b[0m\u001b[0mself\u001b[0m\u001b[1;33m.\u001b[0m\u001b[0m_A\u001b[0m\u001b[1;33m)\u001b[0m\u001b[1;33m\u001b[0m\u001b[0m\n\u001b[0;32m    334\u001b[0m         \u001b[0mself\u001b[0m\u001b[1;33m.\u001b[0m\u001b[0mchanged\u001b[0m\u001b[1;33m(\u001b[0m\u001b[1;33m)\u001b[0m\u001b[1;33m\u001b[0m\u001b[0m\n",
      "\u001b[1;31mTypeError\u001b[0m: You must first set_array for mappable"
     ]
    },
    {
     "data": {
      "image/png": "[encoded data removed]",
      "text/plain": [
       "<matplotlib.figure.Figure at 0x7f3dc8924c90>"
      ]
     },
     "metadata": {},
     "output_type": "display_data"
    }
   ],
   "source": [
    "# from sklearn.decomposition import PCA\n",
    "# pca = PCA(n_components=2)\n",
    "from sklearn.manifold import TSNE\n",
    "pca = TSNE(n_components=4, verbose=1)\n",
    "da = pca.fit_transform(X)\n",
    "plotDataIn2D(da, Y)"
   ]
  },
  {
   "cell_type": "code",
   "execution_count": 12,
   "metadata": {
    "collapsed": true
   },
   "outputs": [],
   "source": [
    "# Instantiate and train the classifier\n",
    "from sklearn.neighbors import KNeighborsClassifier\n",
    "classifier = KNeighborsClassifier(n_neighbors=10)"
   ]
  },
  {
   "cell_type": "code",
   "execution_count": 186,
   "metadata": {
    "collapsed": true
   },
   "outputs": [],
   "source": [
    "from sklearn.naive_bayes import GaussianNB\n",
    "from sklearn.cross_validation import train_test_split\n",
    "classifier = GaussianNB()"
   ]
  },
  {
   "cell_type": "code",
   "execution_count": 13,
   "metadata": {
    "collapsed": false
   },
   "outputs": [],
   "source": [
    "# DecisionTreeClassifier\n",
    "from sklearn.tree import DecisionTreeClassifier\n",
    "classifier = DecisionTreeClassifier(random_state=0)"
   ]
  },
  {
   "cell_type": "code",
   "execution_count": 263,
   "metadata": {
    "collapsed": true
   },
   "outputs": [],
   "source": [
    "from sklearn.decomposition import PCA\n",
    "pca = PCA(n_components=10)\n",
    "xs = pca.fit_transform(X)"
   ]
  },
  {
   "cell_type": "code",
   "execution_count": 321,
   "metadata": {
    "collapsed": true
   },
   "outputs": [],
   "source": [
    "from sklearn.ensemble import RandomForestClassifier\n",
    "classifier = RandomForestClassifier(n_estimators=4, verbose = 1)"
   ]
  },
  {
   "cell_type": "code",
   "execution_count": 19,
   "metadata": {
    "collapsed": true
   },
   "outputs": [],
   "source": [
    "from sklearn.ensemble import AdaBoostClassifier\n",
    "classifier = AdaBoostClassifier()"
   ]
  },
  {
   "cell_type": "code",
   "execution_count": 350,
   "metadata": {
    "collapsed": true
   },
   "outputs": [],
   "source": [
    "efrom sklearn.svm import SVC\n",
    "classifier = SVC(verbose = 1) "
   ]
  },
  {
   "cell_type": "code",
   "execution_count": 21,
   "metadata": {
    "collapsed": false
   },
   "outputs": [
    {
     "name": "stdout",
     "output_type": "stream",
     "text": [
      "174\n",
      "223\n"
     ]
    }
   ],
   "source": [
    "# split the data into training and validation sets\n",
    "from sklearn.cross_validation import train_test_split\n",
    "# xs = pca.transform(X)\n",
    "X_train, X_test, y_train, y_test = train_test_split(X,Y)\n",
    "# X_train = X\n",
    "# y_train = Y\n",
    "# train the model\n",
    "classifier.fit(X_train, y_train)\n",
    "\n",
    "# use the model to predict the labels of the test data\n",
    "predicted = classifier.predict(X_test)\n",
    "expected = y_test\n",
    "matches = (predicted == expected)\n",
    "print matches.sum()\n",
    "print len(matches)"
   ]
  },
  {
   "cell_type": "code",
   "execution_count": 15,
   "metadata": {
    "collapsed": false
   },
   "outputs": [
    {
     "name": "stdout",
     "output_type": "stream",
     "text": [
      "173\n",
      "223\n"
     ]
    }
   ],
   "source": [
    "matches = (predicted == expected)\n",
    "print matches.sum()\n",
    "print len(matches)"
   ]
  },
  {
   "cell_type": "markdown",
   "metadata": {},
   "source": [
    "old 185\n",
    "223"
   ]
  },
  {
   "cell_type": "code",
   "execution_count": 345,
   "metadata": {
    "collapsed": false
   },
   "outputs": [
    {
     "name": "stdout",
     "output_type": "stream",
     "text": [
      "             precision    recall  f1-score   support\n",
      "\n",
      "          0       0.89      0.83      0.86       149\n",
      "          1       0.69      0.80      0.74        74\n",
      "\n",
      "avg / total       0.83      0.82      0.82       223\n",
      "\n",
      "[[123  26]\n",
      " [ 15  59]]\n"
     ]
    }
   ],
   "source": [
    "from sklearn import metrics\n",
    "print metrics.classification_report(expected, predicted)\n",
    "print metrics.confusion_matrix(expected, predicted)"
   ]
  },
  {
   "cell_type": "code",
   "execution_count": 349,
   "metadata": {
    "collapsed": false
   },
   "outputs": [
    {
     "name": "stdout",
     "output_type": "stream",
     "text": [
      "['0' '0' '0' '0' '1' '0' '1' '0' '1' '0' '0' '0' '1' '0' '1' '1' '0' '0'\n",
      " '1' '1' '0' '0' '1' '1' '1' '0' '1' '0' '0' '0' '0' '0' '1' '1' '1' '0'\n",
      " '1' '1' '0' '0' '0' '0' '0' '1' '1' '0' '0' '0' '1' '1' '0' '0' '1' '1'\n",
      " '0' '0' '0' '0' '0' '1' '0' '0' '0' '1' '1' '1' '1' '0' '1' '0' '1' '0'\n",
      " '1' '1' '1' '0' '0' '1' '0' '1' '0' '0' '0' '0' '0' '0' '1' '1' '1' '0'\n",
      " '1' '0' '1' '0' '1' '0' '1' '0' '1' '0' '1' '0' '0' '0' '1' '0' '0' '0'\n",
      " '0' '0' '0' '1' '1' '1' '1' '0' '0' '1' '1' '1' '1' '0' '1' '0' '0' '1'\n",
      " '0' '1' '0' '0' '0' '0' '0' '0' '0' '0' '0' '0' '1' '0' '0' '1' '1' '0'\n",
      " '0' '0' '1' '0' '0' '0' '1' '0' '0' '1' '0' '0' '1' '1' '0' '1' '1' '0'\n",
      " '1' '0' '0' '1' '0' '0' '1' '1' '0' '0' '0' '0' '0' '1' '1' '0' '1' '1'\n",
      " '0' '1' '1' '0' '1' '0' '1' '0' '0' '0' '0' '0' '0' '0' '0' '0' '0' '1'\n",
      " '0' '1' '1' '0' '0' '1' '0' '1' '1' '0' '1' '0' '0' '0' '0' '1' '0' '0'\n",
      " '1' '0' '1' '0' '1' '0' '1' '0' '1' '1' '0' '1' '0' '0' '0' '1' '0' '0'\n",
      " '1' '0' '0' '0' '1' '1' '1' '1' '0' '0' '0' '0' '1' '0' '1' '1' '1' '0'\n",
      " '0' '0' '0' '0' '0' '0' '1' '0' '0' '0' '1' '1' '0' '0' '0' '0' '1' '0'\n",
      " '0' '0' '1' '1' '0' '1' '0' '0' '0' '0' '1' '0' '1' '1' '1' '0' '0' '0'\n",
      " '0' '0' '1' '1' '0' '0' '0' '0' '1' '0' '0' '0' '0' '0' '0' '0' '1' '1'\n",
      " '0' '0' '0' '0' '0' '0' '0' '1' '1' '1' '0' '0' '0' '0' '0' '0' '0' '0'\n",
      " '1' '0' '1' '0' '0' '0' '1' '1' '0' '1' '0' '0' '0' '0' '0' '0' '0' '0'\n",
      " '0' '1' '0' '1' '0' '1' '0' '1' '1' '0' '0' '0' '1' '0' '1' '0' '0' '1'\n",
      " '0' '1' '1' '0' '1' '0' '0' '1' '1' '0' '0' '1' '0' '0' '1' '1' '1' '0'\n",
      " '0' '0' '0' '0' '1' '1' '0' '1' '0' '0' '0' '0' '1' '1' '0' '0' '0' '1'\n",
      " '0' '1' '0' '0' '1' '0' '1' '0' '0' '0' '0' '0' '1' '1' '1' '1' '1' '0'\n",
      " '1' '0' '0' '0']\n"
     ]
    }
   ],
   "source": [
    "# tem = pca.transform(Xt)\n",
    "tem = Xt\n",
    "resul = classifier.predict(tem)\n",
    "print resul\n",
    "writeFile(resul)"
   ]
  }
 ],
 "metadata": {
  "kernelspec": {
   "display_name": "Python 2",
   "language": "python",
   "name": "python2"
  },
  "language_info": {
   "codemirror_mode": {
    "name": "ipython",
    "version": 2
   },
   "file_extension": ".py",
   "mimetype": "text/x-python",
   "name": "python",
   "nbconvert_exporter": "python",
   "pygments_lexer": "ipython2",
   "version": "2.7.6"
  }
 },
 "nbformat": 4,
 "nbformat_minor": 0
}
